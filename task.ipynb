{
 "cells": [
  {
   "cell_type": "code",
   "execution_count": 151,
   "metadata": {},
   "outputs": [
    {
     "name": "stdout",
     "output_type": "stream",
     "text": [
      "{'Mon': -6, 'Tue': 2, 'Wed': 2, 'Thu': 4, 'Fri': 6, 'Sat': 8, 'Sun': 2}\n",
      "{'Mon': 2, 'Tue': 4, 'Wed': 6, 'Thu': 8, 'Fri': 10, 'Sat': 12, 'Sun': 14}\n"
     ]
    }
   ],
   "source": [
    "import datetime\n",
    "import statistics\n",
    "\n",
    "def myFun(arg):\n",
    "    keys = list(arg.keys());\n",
    "    values = list(arg.values());\n",
    "    thisdict = { 'Mon': 0, 'Tue': 0, 'Wed': 0, 'Thu': 0, 'Fri': 0, 'Sat': 0, 'Sun': 0};\n",
    "    for idx,key in enumerate(keys):\n",
    "        dates = key.split('-');\n",
    "        givenDateObj = datetime.date(int(dates[0]), int(dates[1]), int(dates[2]))\n",
    "        weekday = givenDateObj.isocalendar()[2]   \n",
    "        if(weekday == 1):\n",
    "            thisdict['Mon']+=values[idx]\n",
    "        if(weekday == 2):\n",
    "            thisdict['Tue']+=values[idx]\n",
    "        if(weekday == 3):\n",
    "            thisdict['Wed']+=values[idx]\n",
    "        if(weekday == 4):\n",
    "            thisdict['Thu']+=values[idx]\n",
    "        if(weekday == 5):\n",
    "            thisdict['Fri']+=values[idx]\n",
    "        if(weekday == 6):\n",
    "            thisdict['Sat']+=values[idx]\n",
    "        if(weekday == 7):\n",
    "            thisdict['Sun']+=values[idx]\n",
    "    listKey = [];\n",
    "    listValue = [];\n",
    "    for x, y in thisdict.items():\n",
    "        listKey.append(x);\n",
    "        listValue.append(y);\n",
    "        \n",
    "    i=1;\n",
    "    for idxs, dict in enumerate(thisdict):\n",
    "        if(thisdict[dict]==0):\n",
    "            if(thisdict[listKey[int(idxs)-i]]==0 or thisdict[listKey[int(idxs)+i]]==0):\n",
    "                i+=1;\n",
    "            thisdict[dict]=int(statistics.mean([ thisdict[listKey[int(idxs)-i]], thisdict[listKey[int(idxs)+i]] ]))\n",
    "                \n",
    "    print(thisdict);\n",
    "       \n",
    "myFun({'2020-01-01':4,'2020-01-02':4, '2020-01-03':6, '2020-01-04':8, '2020-01-05':2, '2020-01-06':-6, '2020-01-07':2, '2020-01-08':-2});      \n",
    "myFun({'2020-01-01':6,'2020-01-04':12, '2020-01-05':14, '2020-01-06':2, '2020-01-07':4});"
   ]
  }
 ],
 "metadata": {
  "kernelspec": {
   "display_name": "Python 3",
   "language": "python",
   "name": "python3"
  },
  "language_info": {
   "codemirror_mode": {
    "name": "ipython",
    "version": 3
   },
   "file_extension": ".py",
   "mimetype": "text/x-python",
   "name": "python",
   "nbconvert_exporter": "python",
   "pygments_lexer": "ipython3",
   "version": "3.8.5"
  }
 },
 "nbformat": 4,
 "nbformat_minor": 4
}
